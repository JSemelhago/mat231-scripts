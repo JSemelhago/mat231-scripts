{
 "cells": [
  {
   "cell_type": "code",
   "execution_count": 1,
   "metadata": {
    "collapsed": true
   },
   "outputs": [
    {
     "name": "stderr",
     "output_type": "stream",
     "text": [
      "\n",
      "Bad key \"text.kerning_factor\" on line 4 in\n",
      "C:\\Users\\jseme\\Anaconda3\\lib\\site-packages\\matplotlib\\mpl-data\\stylelib\\_classic_test_patch.mplstyle.\n",
      "You probably need to get an updated matplotlibrc file from\n",
      "https://github.com/matplotlib/matplotlib/blob/v3.1.3/matplotlibrc.template\n",
      "or from the matplotlib source distribution\n",
      "C:\\Users\\jseme\\Anaconda3\\lib\\site-packages\\statsmodels\\tools\\_testing.py:19: FutureWarning: pandas.util.testing is deprecated. Use the functions in the public API at pandas.testing instead.\n",
      "  import pandas.util.testing as tm\n"
     ]
    }
   ],
   "source": [
    "import pandas as pd\n",
    "import numpy as np\n",
    "import matplotlib.pyplot as plt\n",
    "import seaborn as sns"
   ]
  },
  {
   "cell_type": "code",
   "execution_count": 2,
   "outputs": [],
   "source": [
    "#Constants\n",
    "N = 38005238\n",
    "r_0 = 2.1\n",
    "gamma = 1/14\n",
    "beta = gamma*r_0\n",
    "sigma = 1/5"
   ],
   "metadata": {
    "collapsed": false,
    "pycharm": {
     "name": "#%%\n"
    }
   }
  },
  {
   "cell_type": "code",
   "execution_count": 3,
   "outputs": [
    {
     "data": {
      "text/plain": "          S   S'    E   E'    I   I'    R   R'\n1  38004527  NaN  691  NaN   20  NaN    0  NaN\n2       NaN  NaN  NaN  NaN  NaN  NaN  NaN  NaN\n3       NaN  NaN  NaN  NaN  NaN  NaN  NaN  NaN\n4       NaN  NaN  NaN  NaN  NaN  NaN  NaN  NaN\n5       NaN  NaN  NaN  NaN  NaN  NaN  NaN  NaN",
      "text/html": "<div>\n<style scoped>\n    .dataframe tbody tr th:only-of-type {\n        vertical-align: middle;\n    }\n\n    .dataframe tbody tr th {\n        vertical-align: top;\n    }\n\n    .dataframe thead th {\n        text-align: right;\n    }\n</style>\n<table border=\"1\" class=\"dataframe\">\n  <thead>\n    <tr style=\"text-align: right;\">\n      <th></th>\n      <th>S</th>\n      <th>S'</th>\n      <th>E</th>\n      <th>E'</th>\n      <th>I</th>\n      <th>I'</th>\n      <th>R</th>\n      <th>R'</th>\n    </tr>\n  </thead>\n  <tbody>\n    <tr>\n      <th>1</th>\n      <td>38004527</td>\n      <td>NaN</td>\n      <td>691</td>\n      <td>NaN</td>\n      <td>20</td>\n      <td>NaN</td>\n      <td>0</td>\n      <td>NaN</td>\n    </tr>\n    <tr>\n      <th>2</th>\n      <td>NaN</td>\n      <td>NaN</td>\n      <td>NaN</td>\n      <td>NaN</td>\n      <td>NaN</td>\n      <td>NaN</td>\n      <td>NaN</td>\n      <td>NaN</td>\n    </tr>\n    <tr>\n      <th>3</th>\n      <td>NaN</td>\n      <td>NaN</td>\n      <td>NaN</td>\n      <td>NaN</td>\n      <td>NaN</td>\n      <td>NaN</td>\n      <td>NaN</td>\n      <td>NaN</td>\n    </tr>\n    <tr>\n      <th>4</th>\n      <td>NaN</td>\n      <td>NaN</td>\n      <td>NaN</td>\n      <td>NaN</td>\n      <td>NaN</td>\n      <td>NaN</td>\n      <td>NaN</td>\n      <td>NaN</td>\n    </tr>\n    <tr>\n      <th>5</th>\n      <td>NaN</td>\n      <td>NaN</td>\n      <td>NaN</td>\n      <td>NaN</td>\n      <td>NaN</td>\n      <td>NaN</td>\n      <td>NaN</td>\n      <td>NaN</td>\n    </tr>\n  </tbody>\n</table>\n</div>"
     },
     "execution_count": 3,
     "metadata": {},
     "output_type": "execute_result"
    }
   ],
   "source": [
    "#Dataframe declaration with initial values\n",
    "df = pd.DataFrame(index=np.linspace(1,365, 365).astype(int), columns=[\"S\",\"S'\",\"E\",\"E'\",\"I\",\"I'\",\"R\",\"R'\"])\n",
    "df.loc[1, 'E'] = 691\n",
    "df.loc[1, 'I'] = 20\n",
    "df.loc[1, 'R'] = 0\n",
    "df.loc[1, 'S'] = N-df.loc[1, 'E']-df.loc[1, 'I']-df.loc[1, 'R']\n",
    "df.head()"
   ],
   "metadata": {
    "collapsed": false,
    "pycharm": {
     "name": "#%%\n"
    }
   }
  },
  {
   "cell_type": "code",
   "execution_count": 4,
   "outputs": [
    {
     "data": {
      "text/plain": "          S   S'    E    E'    I   I'   R  R'\n1  38004527   -2  691  -135   20  136   0   1\n2  38004525  -23  556   -87  156  100   1  11\n3  38004502  -38  469   -55  256   75  12  18\n4  38004464  -49  414   -33  331   59  30  23\n5  38004415  -58  381   -17  390   48  53  27",
      "text/html": "<div>\n<style scoped>\n    .dataframe tbody tr th:only-of-type {\n        vertical-align: middle;\n    }\n\n    .dataframe tbody tr th {\n        vertical-align: top;\n    }\n\n    .dataframe thead th {\n        text-align: right;\n    }\n</style>\n<table border=\"1\" class=\"dataframe\">\n  <thead>\n    <tr style=\"text-align: right;\">\n      <th></th>\n      <th>S</th>\n      <th>S'</th>\n      <th>E</th>\n      <th>E'</th>\n      <th>I</th>\n      <th>I'</th>\n      <th>R</th>\n      <th>R'</th>\n    </tr>\n  </thead>\n  <tbody>\n    <tr>\n      <th>1</th>\n      <td>38004527</td>\n      <td>-2</td>\n      <td>691</td>\n      <td>-135</td>\n      <td>20</td>\n      <td>136</td>\n      <td>0</td>\n      <td>1</td>\n    </tr>\n    <tr>\n      <th>2</th>\n      <td>38004525</td>\n      <td>-23</td>\n      <td>556</td>\n      <td>-87</td>\n      <td>156</td>\n      <td>100</td>\n      <td>1</td>\n      <td>11</td>\n    </tr>\n    <tr>\n      <th>3</th>\n      <td>38004502</td>\n      <td>-38</td>\n      <td>469</td>\n      <td>-55</td>\n      <td>256</td>\n      <td>75</td>\n      <td>12</td>\n      <td>18</td>\n    </tr>\n    <tr>\n      <th>4</th>\n      <td>38004464</td>\n      <td>-49</td>\n      <td>414</td>\n      <td>-33</td>\n      <td>331</td>\n      <td>59</td>\n      <td>30</td>\n      <td>23</td>\n    </tr>\n    <tr>\n      <th>5</th>\n      <td>38004415</td>\n      <td>-58</td>\n      <td>381</td>\n      <td>-17</td>\n      <td>390</td>\n      <td>48</td>\n      <td>53</td>\n      <td>27</td>\n    </tr>\n  </tbody>\n</table>\n</div>"
     },
     "execution_count": 4,
     "metadata": {},
     "output_type": "execute_result"
    }
   ],
   "source": [
    "#Difference in days t_n-t_n-1=1\n",
    "step_size = 1\n",
    "\n",
    "#Populate dataframe using Euler's method\n",
    "for index, row in df.iterrows():\n",
    "\n",
    "    #S' from system\n",
    "    df.loc[index, \"S'\"] = int(-beta/N*df.loc[index,'I']*df.loc[index, 'S'])\n",
    "    #Using Euler's method with step size of S' over one day (multiplied by one)\n",
    "    df.loc[index+1, 'S'] = df.loc[index, 'S']+df.loc[index, \"S'\"]*step_size\n",
    "\n",
    "    #R' from system\n",
    "    df.loc[index, \"R'\"] = int(gamma*df.loc[index, 'I'])\n",
    "    #Using Euler's method\n",
    "    df.loc[index+1, 'R'] = df.loc[index, 'R']+df.loc[index, \"R'\"]*step_size\n",
    "\n",
    "    #E' from system\n",
    "    df.loc[index, \"E'\"] = int(beta/N*df.loc[index,'I']*df.loc[index, 'S']-sigma*df.loc[index, 'E'])\n",
    "    #Using Euler's method\n",
    "    df.loc[index+1, 'E'] = df.loc[index, 'E']+df.loc[index, \"E'\"]*step_size\n",
    "\n",
    "    #I' from system\n",
    "    df.loc[index, \"I'\"] = (int)(sigma*df.loc[index, 'E']-gamma*df.loc[index, 'I'])\n",
    "    #Using Euler's method\n",
    "    df.loc[index+1, 'I'] = df.loc[index, 'I']+df.loc[index, \"I'\"]*step_size\n",
    "\n",
    "    if (index==df.shape[0]-1):\n",
    "        break\n",
    "\n",
    "df.to_csv('seir_eulersdata.csv',index_label=\"Day\")\n",
    "df.head()"
   ],
   "metadata": {
    "collapsed": false,
    "pycharm": {
     "name": "#%%\n"
    }
   }
  },
  {
   "cell_type": "code",
   "execution_count": 5,
   "outputs": [
    {
     "data": {
      "text/plain": "   day Letter     Value\n0    1      S  38004527\n1    2      S  38004525\n2    3      S  38004502\n3    4      S  38004464\n4    5      S  38004415",
      "text/html": "<div>\n<style scoped>\n    .dataframe tbody tr th:only-of-type {\n        vertical-align: middle;\n    }\n\n    .dataframe tbody tr th {\n        vertical-align: top;\n    }\n\n    .dataframe thead th {\n        text-align: right;\n    }\n</style>\n<table border=\"1\" class=\"dataframe\">\n  <thead>\n    <tr style=\"text-align: right;\">\n      <th></th>\n      <th>day</th>\n      <th>Letter</th>\n      <th>Value</th>\n    </tr>\n  </thead>\n  <tbody>\n    <tr>\n      <th>0</th>\n      <td>1</td>\n      <td>S</td>\n      <td>38004527</td>\n    </tr>\n    <tr>\n      <th>1</th>\n      <td>2</td>\n      <td>S</td>\n      <td>38004525</td>\n    </tr>\n    <tr>\n      <th>2</th>\n      <td>3</td>\n      <td>S</td>\n      <td>38004502</td>\n    </tr>\n    <tr>\n      <th>3</th>\n      <td>4</td>\n      <td>S</td>\n      <td>38004464</td>\n    </tr>\n    <tr>\n      <th>4</th>\n      <td>5</td>\n      <td>S</td>\n      <td>38004415</td>\n    </tr>\n  </tbody>\n</table>\n</div>"
     },
     "execution_count": 5,
     "metadata": {},
     "output_type": "execute_result"
    }
   ],
   "source": [
    "#Copy over results and format to seaborn specifications\n",
    "plotdf = df.loc[:,['S','E','I','R']]\n",
    "plotdf['day'] = df.index\n",
    "plotdf = plotdf.melt('day',var_name='Letter',value_name='Value')\n",
    "plotdf['Value'] = plotdf['Value'].astype(int)\n",
    "plotdf.head()"
   ],
   "metadata": {
    "collapsed": false,
    "pycharm": {
     "name": "#%%\n"
    }
   }
  },
  {
   "cell_type": "code",
   "execution_count": 6,
   "outputs": [
    {
     "data": {
      "text/plain": "<Figure size 432x288 with 1 Axes>",
      "image/png": "[encoded data removed]"
     },
     "metadata": {
      "needs_background": "light"
     },
     "output_type": "display_data"
    }
   ],
   "source": [
    "#Plot seaborn\n",
    "fig, ax = plt.subplots()\n",
    "\n",
    "ax = sns.lineplot(data=plotdf, x='day', y='Value', hue='Letter')\n",
    "\n",
    "ax.set_title(\"SEIR Model of Covid-19 in Canada Using Euler's Method\",y=1.08)\n",
    "ax.set_ylabel('population')\n",
    "ax.legend().texts[0].set_text(\"Compartment\")\n",
    "fig.savefig('seir_eulers.png')"
   ],
   "metadata": {
    "collapsed": false,
    "pycharm": {
     "name": "#%%\n"
    }
   }
  }
 ],
 "metadata": {
  "kernelspec": {
   "display_name": "Python 3",
   "language": "python",
   "name": "python3"
  },
  "language_info": {
   "codemirror_mode": {
    "name": "ipython",
    "version": 2
   },
   "file_extension": ".py",
   "mimetype": "text/x-python",
   "name": "python",
   "nbconvert_exporter": "python",
   "pygments_lexer": "ipython2",
   "version": "2.7.6"
  }
 },
 "nbformat": 4,
 "nbformat_minor": 0
}