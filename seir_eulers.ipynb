{
 "cells": [
  {
   "cell_type": "code",
   "execution_count": 37,
   "metadata": {
    "collapsed": true
   },
   "outputs": [],
   "source": [
    "import pandas as pd\n",
    "import numpy as np\n",
    "import matplotlib.pyplot as plt\n",
    "import seaborn as sns"
   ]
  },
  {
   "cell_type": "code",
   "execution_count": 38,
   "outputs": [],
   "source": [
    "#Constants\n",
    "N = 38005238\n",
    "r_0 = 2.1\n",
    "gamma = 1/14\n",
    "beta = gamma*r_0\n",
    "sigma = 1/5"
   ],
   "metadata": {
    "collapsed": false,
    "pycharm": {
     "name": "#%%\n"
    }
   }
  },
  {
   "cell_type": "code",
   "execution_count": 39,
   "outputs": [
    {
     "data": {
      "text/plain": "          S   S'     E   E'    I   I'    R   R'\n1  38000223  NaN  5000  NaN   10  NaN    5  NaN\n2       NaN  NaN   NaN  NaN  NaN  NaN  NaN  NaN\n3       NaN  NaN   NaN  NaN  NaN  NaN  NaN  NaN\n4       NaN  NaN   NaN  NaN  NaN  NaN  NaN  NaN\n5       NaN  NaN   NaN  NaN  NaN  NaN  NaN  NaN",
      "text/html": "<div>\n<style scoped>\n    .dataframe tbody tr th:only-of-type {\n        vertical-align: middle;\n    }\n\n    .dataframe tbody tr th {\n        vertical-align: top;\n    }\n\n    .dataframe thead th {\n        text-align: right;\n    }\n</style>\n<table border=\"1\" class=\"dataframe\">\n  <thead>\n    <tr style=\"text-align: right;\">\n      <th></th>\n      <th>S</th>\n      <th>S'</th>\n      <th>E</th>\n      <th>E'</th>\n      <th>I</th>\n      <th>I'</th>\n      <th>R</th>\n      <th>R'</th>\n    </tr>\n  </thead>\n  <tbody>\n    <tr>\n      <th>1</th>\n      <td>38000223</td>\n      <td>NaN</td>\n      <td>5000</td>\n      <td>NaN</td>\n      <td>10</td>\n      <td>NaN</td>\n      <td>5</td>\n      <td>NaN</td>\n    </tr>\n    <tr>\n      <th>2</th>\n      <td>NaN</td>\n      <td>NaN</td>\n      <td>NaN</td>\n      <td>NaN</td>\n      <td>NaN</td>\n      <td>NaN</td>\n      <td>NaN</td>\n      <td>NaN</td>\n    </tr>\n    <tr>\n      <th>3</th>\n      <td>NaN</td>\n      <td>NaN</td>\n      <td>NaN</td>\n      <td>NaN</td>\n      <td>NaN</td>\n      <td>NaN</td>\n      <td>NaN</td>\n      <td>NaN</td>\n    </tr>\n    <tr>\n      <th>4</th>\n      <td>NaN</td>\n      <td>NaN</td>\n      <td>NaN</td>\n      <td>NaN</td>\n      <td>NaN</td>\n      <td>NaN</td>\n      <td>NaN</td>\n      <td>NaN</td>\n    </tr>\n    <tr>\n      <th>5</th>\n      <td>NaN</td>\n      <td>NaN</td>\n      <td>NaN</td>\n      <td>NaN</td>\n      <td>NaN</td>\n      <td>NaN</td>\n      <td>NaN</td>\n      <td>NaN</td>\n    </tr>\n  </tbody>\n</table>\n</div>"
     },
     "execution_count": 39,
     "metadata": {},
     "output_type": "execute_result"
    }
   ],
   "source": [
    "#Dataframe declaration with initial values\n",
    "df = pd.DataFrame(index=np.linspace(1,365, 365).astype(int), columns=[\"S\",\"S'\",\"E\",\"E'\",\"I\",\"I'\",\"R\",\"R'\"])\n",
    "df.loc[1, 'E'] = 5000\n",
    "df.loc[1, 'I'] = 10\n",
    "df.loc[1, 'R'] = 5\n",
    "df.loc[1, 'S'] = N-df.loc[1, 'E']-df.loc[1, 'I']-df.loc[1, 'R']\n",
    "df.head()"
   ],
   "metadata": {
    "collapsed": false,
    "pycharm": {
     "name": "#%%\n"
    }
   }
  },
  {
   "cell_type": "code",
   "execution_count": 40,
   "outputs": [
    {
     "data": {
      "text/plain": "          S    S'     E    E'     I   I'    R   R'\n1  38000223    -1  5000  -998    10  999    5    0\n2  38000222  -151  4002  -649  1009  728    5   72\n3  38000071  -260  3353  -410  1737  546   77  124\n4  37999811  -342  2943  -246  2283  425  201  163\n5  37999469  -406  2697  -133  2708  345  364  193",
      "text/html": "<div>\n<style scoped>\n    .dataframe tbody tr th:only-of-type {\n        vertical-align: middle;\n    }\n\n    .dataframe tbody tr th {\n        vertical-align: top;\n    }\n\n    .dataframe thead th {\n        text-align: right;\n    }\n</style>\n<table border=\"1\" class=\"dataframe\">\n  <thead>\n    <tr style=\"text-align: right;\">\n      <th></th>\n      <th>S</th>\n      <th>S'</th>\n      <th>E</th>\n      <th>E'</th>\n      <th>I</th>\n      <th>I'</th>\n      <th>R</th>\n      <th>R'</th>\n    </tr>\n  </thead>\n  <tbody>\n    <tr>\n      <th>1</th>\n      <td>38000223</td>\n      <td>-1</td>\n      <td>5000</td>\n      <td>-998</td>\n      <td>10</td>\n      <td>999</td>\n      <td>5</td>\n      <td>0</td>\n    </tr>\n    <tr>\n      <th>2</th>\n      <td>38000222</td>\n      <td>-151</td>\n      <td>4002</td>\n      <td>-649</td>\n      <td>1009</td>\n      <td>728</td>\n      <td>5</td>\n      <td>72</td>\n    </tr>\n    <tr>\n      <th>3</th>\n      <td>38000071</td>\n      <td>-260</td>\n      <td>3353</td>\n      <td>-410</td>\n      <td>1737</td>\n      <td>546</td>\n      <td>77</td>\n      <td>124</td>\n    </tr>\n    <tr>\n      <th>4</th>\n      <td>37999811</td>\n      <td>-342</td>\n      <td>2943</td>\n      <td>-246</td>\n      <td>2283</td>\n      <td>425</td>\n      <td>201</td>\n      <td>163</td>\n    </tr>\n    <tr>\n      <th>5</th>\n      <td>37999469</td>\n      <td>-406</td>\n      <td>2697</td>\n      <td>-133</td>\n      <td>2708</td>\n      <td>345</td>\n      <td>364</td>\n      <td>193</td>\n    </tr>\n  </tbody>\n</table>\n</div>"
     },
     "execution_count": 40,
     "metadata": {},
     "output_type": "execute_result"
    }
   ],
   "source": [
    "#Difference in days t_n-t_n-1=1\n",
    "step_size = 1\n",
    "\n",
    "#Populate dataframe using Euler's method\n",
    "for index, row in df.iterrows():\n",
    "\n",
    "    #S' from system\n",
    "    df.loc[index, \"S'\"] = int(-beta/N*df.loc[index,'I']*df.loc[index, 'S'])\n",
    "    #Using Euler's method with step size of S' over one day (multiplied by one)\n",
    "    df.loc[index+1, 'S'] = df.loc[index, 'S']+df.loc[index, \"S'\"]*step_size\n",
    "\n",
    "    #R' from system\n",
    "    df.loc[index, \"R'\"] = int(gamma*df.loc[index, 'I'])\n",
    "    #Using Euler's method\n",
    "    df.loc[index+1, 'R'] = df.loc[index, 'R']+df.loc[index, \"R'\"]*step_size\n",
    "\n",
    "    #E' from system\n",
    "    df.loc[index, \"E'\"] = int(beta/N*df.loc[index,'I']*df.loc[index, 'S']-sigma*df.loc[index, 'E'])\n",
    "    #Using Euler's method\n",
    "    df.loc[index+1, 'E'] = df.loc[index, 'E']+df.loc[index, \"E'\"]*step_size\n",
    "\n",
    "    #I' from system\n",
    "    df.loc[index, \"I'\"] = (int)(sigma*df.loc[index, 'E']-gamma*df.loc[index, 'I'])\n",
    "    #Using Euler's method\n",
    "    df.loc[index+1, 'I'] = df.loc[index, 'I']+df.loc[index, \"I'\"]*step_size\n",
    "\n",
    "    if (index==df.shape[0]-1):\n",
    "        break\n",
    "\n",
    "df.to_csv('seir_eulersdata.csv',index_label=\"Day\")\n",
    "df.head()"
   ],
   "metadata": {
    "collapsed": false,
    "pycharm": {
     "name": "#%%\n"
    }
   }
  },
  {
   "cell_type": "code",
   "execution_count": 41,
   "outputs": [
    {
     "data": {
      "text/plain": "   day Letter     Value\n0    1      S  38000223\n1    2      S  38000222\n2    3      S  38000071\n3    4      S  37999811\n4    5      S  37999469",
      "text/html": "<div>\n<style scoped>\n    .dataframe tbody tr th:only-of-type {\n        vertical-align: middle;\n    }\n\n    .dataframe tbody tr th {\n        vertical-align: top;\n    }\n\n    .dataframe thead th {\n        text-align: right;\n    }\n</style>\n<table border=\"1\" class=\"dataframe\">\n  <thead>\n    <tr style=\"text-align: right;\">\n      <th></th>\n      <th>day</th>\n      <th>Letter</th>\n      <th>Value</th>\n    </tr>\n  </thead>\n  <tbody>\n    <tr>\n      <th>0</th>\n      <td>1</td>\n      <td>S</td>\n      <td>38000223</td>\n    </tr>\n    <tr>\n      <th>1</th>\n      <td>2</td>\n      <td>S</td>\n      <td>38000222</td>\n    </tr>\n    <tr>\n      <th>2</th>\n      <td>3</td>\n      <td>S</td>\n      <td>38000071</td>\n    </tr>\n    <tr>\n      <th>3</th>\n      <td>4</td>\n      <td>S</td>\n      <td>37999811</td>\n    </tr>\n    <tr>\n      <th>4</th>\n      <td>5</td>\n      <td>S</td>\n      <td>37999469</td>\n    </tr>\n  </tbody>\n</table>\n</div>"
     },
     "execution_count": 41,
     "metadata": {},
     "output_type": "execute_result"
    }
   ],
   "source": [
    "#Copy over results and format to seaborn\n",
    "plotdf = df.loc[:,['S','E','I','R']]\n",
    "plotdf['day'] = df.index\n",
    "plotdf = plotdf.melt('day',var_name='Letter',value_name='Value')\n",
    "plotdf['Value'] = plotdf['Value'].astype(int)\n",
    "plotdf.head()"
   ],
   "metadata": {
    "collapsed": false,
    "pycharm": {
     "name": "#%%\n"
    }
   }
  },
  {
   "cell_type": "code",
   "execution_count": 42,
   "outputs": [
    {
     "data": {
      "text/plain": "<Figure size 432x288 with 1 Axes>",
      "image/png": "[encoded data removed]"
     },
     "metadata": {
      "needs_background": "light"
     },
     "output_type": "display_data"
    }
   ],
   "source": [
    "fig, ax = plt.subplots()\n",
    "\n",
    "ax = sns.lineplot(data=plotdf, x='day', y='Value', hue='Letter')\n",
    "\n",
    "ax.set_title(\"SEIR Model of Covid-19 in Canada Using Euler's Method\",y=1.08)\n",
    "ax.set_ylabel('population')\n",
    "ax.legend().texts[0].set_text(\"Compartment\")\n",
    "fig.savefig('seir_eulers.png')"
   ],
   "metadata": {
    "collapsed": false,
    "pycharm": {
     "name": "#%%\n"
    }
   }
  }
 ],
 "metadata": {
  "kernelspec": {
   "display_name": "Python 3",
   "language": "python",
   "name": "python3"
  },
  "language_info": {
   "codemirror_mode": {
    "name": "ipython",
    "version": 2
   },
   "file_extension": ".py",
   "mimetype": "text/x-python",
   "name": "python",
   "nbconvert_exporter": "python",
   "pygments_lexer": "ipython2",
   "version": "2.7.6"
  }
 },
 "nbformat": 4,
 "nbformat_minor": 0
}